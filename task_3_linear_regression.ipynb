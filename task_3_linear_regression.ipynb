{
 "cells": [
  {
   "cell_type": "markdown",
   "id": "047d941a",
   "metadata": {},
   "source": [
    "# Linear regression"
   ]
  },
  {
   "cell_type": "code",
   "execution_count": 1,
   "id": "621d061d",
   "metadata": {},
   "outputs": [],
   "source": [
    "import numpy as np\n",
    "import pandas as pd\n",
    "import matplotlib.pyplot as plt \n",
    "import random"
   ]
  },
  {
   "cell_type": "code",
   "execution_count": 2,
   "id": "ac98d055",
   "metadata": {
    "scrolled": true
   },
   "outputs": [],
   "source": [
    "x = np.random.rand(100,1)*10"
   ]
  },
  {
   "cell_type": "code",
   "execution_count": 3,
   "id": "79c3d8ba",
   "metadata": {
    "scrolled": true
   },
   "outputs": [
    {
     "data": {
      "text/plain": [
       "(array([[26.63878777],\n",
       "        [43.54394764],\n",
       "        [11.08453617],\n",
       "        [18.30083622],\n",
       "        [ 4.53252794],\n",
       "        [42.63629478],\n",
       "        [ 5.71295623],\n",
       "        [48.86882014],\n",
       "        [27.08405984],\n",
       "        [15.78727417],\n",
       "        [51.34451445],\n",
       "        [ 3.36521752],\n",
       "        [46.72349093],\n",
       "        [42.11215858],\n",
       "        [12.70615834],\n",
       "        [47.24597498],\n",
       "        [30.0488328 ],\n",
       "        [26.28156465],\n",
       "        [33.07233364],\n",
       "        [50.00236717],\n",
       "        [33.56557449],\n",
       "        [ 9.29525942],\n",
       "        [ 8.47434315],\n",
       "        [42.69113728],\n",
       "        [38.57257124],\n",
       "        [16.30596484],\n",
       "        [32.30208928],\n",
       "        [38.91421627],\n",
       "        [38.06240512],\n",
       "        [48.51858765],\n",
       "        [44.1158958 ],\n",
       "        [ 4.29882675],\n",
       "        [45.23090118],\n",
       "        [23.89878358],\n",
       "        [10.71962349],\n",
       "        [16.71374841],\n",
       "        [35.77332539],\n",
       "        [24.05144909],\n",
       "        [22.28089638],\n",
       "        [49.72953909],\n",
       "        [13.78851482],\n",
       "        [46.80774078],\n",
       "        [ 8.26041433],\n",
       "        [22.0060993 ],\n",
       "        [16.89649923],\n",
       "        [27.19638893],\n",
       "        [26.79494916],\n",
       "        [33.35852091],\n",
       "        [ 2.67548979],\n",
       "        [35.32045652],\n",
       "        [18.0207483 ],\n",
       "        [ 3.15838004],\n",
       "        [50.89153068],\n",
       "        [17.59914765],\n",
       "        [42.73868446],\n",
       "        [ 7.07706269],\n",
       "        [28.29482061],\n",
       "        [ 5.55275845],\n",
       "        [19.95277026],\n",
       "        [45.38959594],\n",
       "        [13.67200995],\n",
       "        [ 2.74231898],\n",
       "        [ 5.76812555],\n",
       "        [32.44311754],\n",
       "        [ 9.97025548],\n",
       "        [47.53810247],\n",
       "        [43.7917468 ],\n",
       "        [36.35731167],\n",
       "        [ 5.24969616],\n",
       "        [29.07823434],\n",
       "        [16.34842709],\n",
       "        [ 3.7694664 ],\n",
       "        [24.4659703 ],\n",
       "        [18.48367506],\n",
       "        [43.45580481],\n",
       "        [16.71810276],\n",
       "        [42.92933952],\n",
       "        [14.16528541],\n",
       "        [19.14805295],\n",
       "        [50.1876102 ],\n",
       "        [22.06229261],\n",
       "        [ 7.5471763 ],\n",
       "        [19.67614052],\n",
       "        [ 7.37244691],\n",
       "        [41.1641125 ],\n",
       "        [13.57872184],\n",
       "        [29.54207103],\n",
       "        [22.54104071],\n",
       "        [19.51704973],\n",
       "        [46.69055993],\n",
       "        [16.0633685 ],\n",
       "        [27.02678418],\n",
       "        [21.63600553],\n",
       "        [13.07119651],\n",
       "        [40.70344286],\n",
       "        [ 3.97536458],\n",
       "        [ 8.36347112],\n",
       "        [50.65955635],\n",
       "        [18.73440873],\n",
       "        [35.74214912]]),\n",
       " array([[4.92775755],\n",
       "        [8.30878953],\n",
       "        [1.81690723],\n",
       "        [3.26016724],\n",
       "        [0.50650559],\n",
       "        [8.12725896],\n",
       "        [0.74259125],\n",
       "        [9.37376403],\n",
       "        [5.01681197],\n",
       "        [2.75745483],\n",
       "        [9.86890289],\n",
       "        [0.2730435 ],\n",
       "        [8.94469819],\n",
       "        [8.02243172],\n",
       "        [2.14123167],\n",
       "        [9.049195  ],\n",
       "        [5.60976656],\n",
       "        [4.85631293],\n",
       "        [6.21446673],\n",
       "        [9.60047343],\n",
       "        [6.3131149 ],\n",
       "        [1.45905188],\n",
       "        [1.29486863],\n",
       "        [8.13822746],\n",
       "        [7.31451425],\n",
       "        [2.86119297],\n",
       "        [6.06041786],\n",
       "        [7.38284325],\n",
       "        [7.21248102],\n",
       "        [9.30371753],\n",
       "        [8.42317916],\n",
       "        [0.45976535],\n",
       "        [8.64618024],\n",
       "        [4.37975672],\n",
       "        [1.7439247 ],\n",
       "        [2.94274968],\n",
       "        [6.75466508],\n",
       "        [4.41028982],\n",
       "        [4.05617928],\n",
       "        [9.54590782],\n",
       "        [2.35770296],\n",
       "        [8.96154816],\n",
       "        [1.25208287],\n",
       "        [4.00121986],\n",
       "        [2.97929985],\n",
       "        [5.03927779],\n",
       "        [4.95898983],\n",
       "        [6.27170418],\n",
       "        [0.13509796],\n",
       "        [6.6640913 ],\n",
       "        [3.20414966],\n",
       "        [0.23167601],\n",
       "        [9.77830614],\n",
       "        [3.11982953],\n",
       "        [8.14773689],\n",
       "        [1.01541254],\n",
       "        [5.25896412],\n",
       "        [0.71055169],\n",
       "        [3.59055405],\n",
       "        [8.67791919],\n",
       "        [2.33440199],\n",
       "        [0.1484638 ],\n",
       "        [0.75362511],\n",
       "        [6.08862351],\n",
       "        [1.5940511 ],\n",
       "        [9.10762049],\n",
       "        [8.35834936],\n",
       "        [6.87146233],\n",
       "        [0.64993923],\n",
       "        [5.41564687],\n",
       "        [2.86968542],\n",
       "        [0.35389328],\n",
       "        [4.49319406],\n",
       "        [3.29673501],\n",
       "        [8.29116096],\n",
       "        [2.94362055],\n",
       "        [8.1858679 ],\n",
       "        [2.43305708],\n",
       "        [3.42961059],\n",
       "        [9.63752204],\n",
       "        [4.01245852],\n",
       "        [1.10943526],\n",
       "        [3.5352281 ],\n",
       "        [1.07448938],\n",
       "        [7.8328225 ],\n",
       "        [2.31574437],\n",
       "        [5.50841421],\n",
       "        [4.10820814],\n",
       "        [3.50340995],\n",
       "        [8.93811199],\n",
       "        [2.8126737 ],\n",
       "        [5.00535684],\n",
       "        [3.92720111],\n",
       "        [2.2142393 ],\n",
       "        [7.74068857],\n",
       "        [0.39507292],\n",
       "        [1.27269422],\n",
       "        [9.73191127],\n",
       "        [3.34688175],\n",
       "        [6.74842982]]))"
      ]
     },
     "execution_count": 3,
     "metadata": {},
     "output_type": "execute_result"
    }
   ],
   "source": [
    "y= 5*x+2\n",
    "y , x"
   ]
  },
  {
   "cell_type": "markdown",
   "id": "11593a68",
   "metadata": {},
   "source": [
    "# From scratch"
   ]
  },
  {
   "cell_type": "code",
   "execution_count": 4,
   "id": "c7a1e2fd",
   "metadata": {
    "scrolled": true
   },
   "outputs": [],
   "source": [
    "# x ,y"
   ]
  },
  {
   "cell_type": "code",
   "execution_count": 5,
   "id": "b972b865",
   "metadata": {
    "scrolled": true
   },
   "outputs": [],
   "source": [
    "\n",
    "w = 0.5\n",
    "b = 0\n",
    "\n",
    "alpha = 0.05\n",
    "\n",
    "iter = 1000\n",
    "cost_list =[]\n",
    "w_list = []\n",
    "b_list = []\n",
    "for i in range(iter):\n",
    "    y_train = w*x +b \n",
    "    jw = ((y_train - y) * x).sum() / len(y)\n",
    "    jb = (y_train - y).sum() / len(y)\n",
    "    cost = np.sum((y_train - y)**2) /(len(y))\n",
    "    cost_list.append(cost)\n",
    "    sum = np.sum((w*x) - y)\n",
    "    w = w - alpha * jw\n",
    "    w_list.append(w)\n",
    "    b = b - alpha * jb \n",
    "    b_list.append(b)\n",
    "    if i >0:\n",
    "        if abs(cost_list[i] - cost_list[i-1]) < 1e-6 :\n",
    "            break\n",
    "# jw , jb ,cost_list , w_list , y_train\n"
   ]
  },
  {
   "cell_type": "code",
   "execution_count": 6,
   "id": "1556e57b",
   "metadata": {
    "scrolled": false
   },
   "outputs": [
    {
     "name": "stdout",
     "output_type": "stream",
     "text": [
      "5.001642135154098 1.9891499919910902\n"
     ]
    },
    {
     "data": {
      "text/plain": [
       "[<matplotlib.lines.Line2D at 0x2e6ae5828d0>]"
      ]
     },
     "execution_count": 6,
     "metadata": {},
     "output_type": "execute_result"
    },
    {
     "data": {
      "image/png": "[encoded data removed]",
      "text/plain": [
       "<Figure size 640x480 with 1 Axes>"
      ]
     },
     "metadata": {},
     "output_type": "display_data"
    }
   ],
   "source": [
    "print(w,b)\n",
    "plt.plot(cost_list)"
   ]
  },
  {
   "cell_type": "code",
   "execution_count": 7,
   "id": "2b1b36c6",
   "metadata": {},
   "outputs": [
    {
     "data": {
      "text/plain": [
       "[<matplotlib.lines.Line2D at 0x2e6ae6da990>]"
      ]
     },
     "execution_count": 7,
     "metadata": {},
     "output_type": "execute_result"
    },
    {
     "data": {
      "image/png": "[encoded data removed]",
      "text/plain": [
       "<Figure size 640x480 with 1 Axes>"
      ]
     },
     "metadata": {},
     "output_type": "display_data"
    }
   ],
   "source": [
    "plt.plot(w_list)"
   ]
  },
  {
   "cell_type": "code",
   "execution_count": 8,
   "id": "4770b052",
   "metadata": {},
   "outputs": [
    {
     "data": {
      "text/plain": [
       "[<matplotlib.lines.Line2D at 0x2e6ae75c390>]"
      ]
     },
     "execution_count": 8,
     "metadata": {},
     "output_type": "execute_result"
    },
    {
     "data": {
      "image/png": "[encoded data removed]",
      "text/plain": [
       "<Figure size 640x480 with 1 Axes>"
      ]
     },
     "metadata": {},
     "output_type": "display_data"
    }
   ],
   "source": [
    "plt.plot(b_list)"
   ]
  },
  {
   "cell_type": "code",
   "execution_count": 9,
   "id": "7453095e",
   "metadata": {},
   "outputs": [
    {
     "data": {
      "text/plain": [
       "[<matplotlib.lines.Line2D at 0x2e6ae7ad710>]"
      ]
     },
     "execution_count": 9,
     "metadata": {},
     "output_type": "execute_result"
    },
    {
     "data": {
      "image/png": "[encoded data removed]",
      "text/plain": [
       "<Figure size 640x480 with 1 Axes>"
      ]
     },
     "metadata": {},
     "output_type": "display_data"
    }
   ],
   "source": [
    "plt.plot(x, y , 'o')\n",
    "plt.plot(x, y_train, '--')"
   ]
  },
  {
   "cell_type": "markdown",
   "id": "3090cbd1",
   "metadata": {},
   "source": [
    "# Automatic method"
   ]
  },
  {
   "cell_type": "code",
   "execution_count": 10,
   "id": "ca8aaff0",
   "metadata": {
    "scrolled": true
   },
   "outputs": [
    {
     "data": {
      "text/plain": [
       "array([[26.63878777],\n",
       "       [43.54394764],\n",
       "       [11.08453617],\n",
       "       [18.30083622],\n",
       "       [ 4.53252794],\n",
       "       [42.63629478],\n",
       "       [ 5.71295623],\n",
       "       [48.86882014],\n",
       "       [27.08405984],\n",
       "       [15.78727417],\n",
       "       [51.34451445],\n",
       "       [ 3.36521752],\n",
       "       [46.72349093],\n",
       "       [42.11215858],\n",
       "       [12.70615834],\n",
       "       [47.24597498],\n",
       "       [30.0488328 ],\n",
       "       [26.28156465],\n",
       "       [33.07233364],\n",
       "       [50.00236717],\n",
       "       [33.56557449],\n",
       "       [ 9.29525942],\n",
       "       [ 8.47434315],\n",
       "       [42.69113728],\n",
       "       [38.57257124],\n",
       "       [16.30596484],\n",
       "       [32.30208928],\n",
       "       [38.91421627],\n",
       "       [38.06240512],\n",
       "       [48.51858765],\n",
       "       [44.1158958 ],\n",
       "       [ 4.29882675],\n",
       "       [45.23090118],\n",
       "       [23.89878358],\n",
       "       [10.71962349],\n",
       "       [16.71374841],\n",
       "       [35.77332539],\n",
       "       [24.05144909],\n",
       "       [22.28089638],\n",
       "       [49.72953909],\n",
       "       [13.78851482],\n",
       "       [46.80774078],\n",
       "       [ 8.26041433],\n",
       "       [22.0060993 ],\n",
       "       [16.89649923],\n",
       "       [27.19638893],\n",
       "       [26.79494916],\n",
       "       [33.35852091],\n",
       "       [ 2.67548979],\n",
       "       [35.32045652],\n",
       "       [18.0207483 ],\n",
       "       [ 3.15838004],\n",
       "       [50.89153068],\n",
       "       [17.59914765],\n",
       "       [42.73868446],\n",
       "       [ 7.07706269],\n",
       "       [28.29482061],\n",
       "       [ 5.55275845],\n",
       "       [19.95277026],\n",
       "       [45.38959594],\n",
       "       [13.67200995],\n",
       "       [ 2.74231898],\n",
       "       [ 5.76812555],\n",
       "       [32.44311754],\n",
       "       [ 9.97025548],\n",
       "       [47.53810247],\n",
       "       [43.7917468 ],\n",
       "       [36.35731167],\n",
       "       [ 5.24969616],\n",
       "       [29.07823434],\n",
       "       [16.34842709],\n",
       "       [ 3.7694664 ],\n",
       "       [24.4659703 ],\n",
       "       [18.48367506],\n",
       "       [43.45580481],\n",
       "       [16.71810276],\n",
       "       [42.92933952],\n",
       "       [14.16528541],\n",
       "       [19.14805295],\n",
       "       [50.1876102 ],\n",
       "       [22.06229261],\n",
       "       [ 7.5471763 ],\n",
       "       [19.67614052],\n",
       "       [ 7.37244691],\n",
       "       [41.1641125 ],\n",
       "       [13.57872184],\n",
       "       [29.54207103],\n",
       "       [22.54104071],\n",
       "       [19.51704973],\n",
       "       [46.69055993],\n",
       "       [16.0633685 ],\n",
       "       [27.02678418],\n",
       "       [21.63600553],\n",
       "       [13.07119651],\n",
       "       [40.70344286],\n",
       "       [ 3.97536458],\n",
       "       [ 8.36347112],\n",
       "       [50.65955635],\n",
       "       [18.73440873],\n",
       "       [35.74214912]])"
      ]
     },
     "execution_count": 10,
     "metadata": {},
     "output_type": "execute_result"
    }
   ],
   "source": [
    "from sklearn.linear_model import LinearRegression\n",
    "\n",
    "model = LinearRegression()\n",
    "\n",
    "model.fit(x,y)\n",
    "model.predict(x)\n"
   ]
  },
  {
   "cell_type": "code",
   "execution_count": 11,
   "id": "451d3fbe",
   "metadata": {},
   "outputs": [
    {
     "data": {
      "text/plain": [
       "{'copy_X': True, 'fit_intercept': True, 'n_jobs': None, 'positive': False}"
      ]
     },
     "execution_count": 11,
     "metadata": {},
     "output_type": "execute_result"
    }
   ],
   "source": [
    "model.get_params()"
   ]
  },
  {
   "cell_type": "code",
   "execution_count": 12,
   "id": "cf677b09",
   "metadata": {},
   "outputs": [
    {
     "data": {
      "text/plain": [
       "(array([[5.]]), array([2.]))"
      ]
     },
     "execution_count": 12,
     "metadata": {},
     "output_type": "execute_result"
    }
   ],
   "source": [
    "model.coef_ , model.intercept_"
   ]
  },
  {
   "cell_type": "code",
   "execution_count": 13,
   "id": "8c679cd1",
   "metadata": {},
   "outputs": [
    {
     "data": {
      "text/plain": [
       "[<matplotlib.lines.Line2D at 0x2e6c89a9190>]"
      ]
     },
     "execution_count": 13,
     "metadata": {},
     "output_type": "execute_result"
    },
    {
     "data": {
      "image/png": "[encoded data removed]",
      "text/plain": [
       "<Figure size 640x480 with 1 Axes>"
      ]
     },
     "metadata": {},
     "output_type": "display_data"
    }
   ],
   "source": [
    "plt.plot(x, y , 'o')\n",
    "plt.plot(x, model.predict(x),'^')\n",
    "\n"
   ]
  },
  {
   "cell_type": "code",
   "execution_count": null,
   "id": "07b1b346",
   "metadata": {},
   "outputs": [],
   "source": []
  },
  {
   "cell_type": "code",
   "execution_count": null,
   "id": "e85ddfa0",
   "metadata": {},
   "outputs": [],
   "source": []
  }
 ],
 "metadata": {
  "kernelspec": {
   "display_name": "Python 3 (ipykernel)",
   "language": "python",
   "name": "python3"
  },
  "language_info": {
   "codemirror_mode": {
    "name": "ipython",
    "version": 3
   },
   "file_extension": ".py",
   "mimetype": "text/x-python",
   "name": "python",
   "nbconvert_exporter": "python",
   "pygments_lexer": "ipython3",
   "version": "3.11.3"
  }
 },
 "nbformat": 4,
 "nbformat_minor": 5
}
