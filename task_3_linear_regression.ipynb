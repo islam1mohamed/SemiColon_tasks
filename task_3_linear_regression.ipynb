{
 "cells": [
  {
   "cell_type": "markdown",
   "id": "047d941a",
   "metadata": {},
   "source": [
    "# Linear regression"
   ]
  },
  {
   "cell_type": "code",
   "execution_count": 23,
   "id": "621d061d",
   "metadata": {},
   "outputs": [],
   "source": [
    "import numpy as np\n",
    "import pandas as pd\n",
    "import matplotlib.pyplot as plt \n",
    "import random"
   ]
  },
  {
   "cell_type": "code",
   "execution_count": 34,
   "id": "ac98d055",
   "metadata": {
    "scrolled": true
   },
   "outputs": [],
   "source": [
    "x = np.random.rand(30,1)*10"
   ]
  },
  {
   "cell_type": "code",
   "execution_count": 40,
   "id": "79c3d8ba",
   "metadata": {
    "scrolled": true
   },
   "outputs": [
    {
     "data": {
      "text/plain": [
       "array([[43.25269874],\n",
       "       [39.90027996],\n",
       "       [32.78790713],\n",
       "       [35.27195557],\n",
       "       [34.11375462],\n",
       "       [26.40836952],\n",
       "       [18.28604842],\n",
       "       [22.77821138],\n",
       "       [51.08124215],\n",
       "       [ 6.23819723],\n",
       "       [10.97813673],\n",
       "       [ 6.01180861],\n",
       "       [44.60701104],\n",
       "       [21.301589  ],\n",
       "       [16.47891747],\n",
       "       [47.74005222],\n",
       "       [10.23164766],\n",
       "       [ 3.51579016],\n",
       "       [29.76473977],\n",
       "       [46.15231044],\n",
       "       [ 3.58527117],\n",
       "       [ 7.78324087],\n",
       "       [13.8868574 ],\n",
       "       [23.75289053],\n",
       "       [31.57321458],\n",
       "       [42.92317878],\n",
       "       [ 9.19751554],\n",
       "       [45.62929615],\n",
       "       [51.88163268],\n",
       "       [30.51999794]])"
      ]
     },
     "execution_count": 40,
     "metadata": {},
     "output_type": "execute_result"
    }
   ],
   "source": [
    "y= 5*x+2\n",
    "y"
   ]
  },
  {
   "cell_type": "markdown",
   "id": "11593a68",
   "metadata": {},
   "source": [
    "# From scratch"
   ]
  },
  {
   "cell_type": "code",
   "execution_count": 107,
   "id": "c7a1e2fd",
   "metadata": {
    "scrolled": true
   },
   "outputs": [],
   "source": [
    "# x ,y\n",
    "w = 0.5\n",
    "b = 0\n",
    "z =x*w\n",
    "alpha = 0.05\n"
   ]
  },
  {
   "cell_type": "code",
   "execution_count": 115,
   "id": "b972b865",
   "metadata": {},
   "outputs": [
    {
     "name": "stdout",
     "output_type": "stream",
     "text": [
      "2.440015626660062e-12\n"
     ]
    }
   ],
   "source": [
    "iter = 10000\n",
    "\n",
    "\n",
    "for i in range(iter):\n",
    "    y_train = w*x +b \n",
    "    jw = np.sum((y_train - y)* x)\n",
    "    jb = np.sum(y_train - y)\n",
    "    cost = np.sum(y_train-y)**2/(2*len(y))\n",
    "    sum = np.sum((w*x) - y)\n",
    "    w = w - alpha * jw /len(y)\n",
    "    b = b - alpha * jb /len(y)\n",
    "    if cost < 1e-9:\n",
    "        break\n",
    "print(cost)\n",
    "    "
   ]
  },
  {
   "cell_type": "code",
   "execution_count": 118,
   "id": "1556e57b",
   "metadata": {
    "scrolled": true
   },
   "outputs": [
    {
     "name": "stdout",
     "output_type": "stream",
     "text": [
      "5.000000214234416 1.9999985343606599\n"
     ]
    }
   ],
   "source": [
    "print(w,b)"
   ]
  },
  {
   "cell_type": "code",
   "execution_count": 132,
   "id": "4e75a9ec",
   "metadata": {},
   "outputs": [
    {
     "data": {
      "text/plain": [
       "[<matplotlib.lines.Line2D at 0x258b5f8c190>]"
      ]
     },
     "execution_count": 132,
     "metadata": {},
     "output_type": "execute_result"
    },
    {
     "data": {
      "image/png": "[encoded data removed]",
      "text/plain": [
       "<Figure size 640x480 with 1 Axes>"
      ]
     },
     "metadata": {},
     "output_type": "display_data"
    }
   ],
   "source": [
    "plt.plot(x, y , 'o')\n",
    "plt.plot(x, y_train, '--')"
   ]
  },
  {
   "cell_type": "markdown",
   "id": "3090cbd1",
   "metadata": {},
   "source": [
    "# Automatic method"
   ]
  },
  {
   "cell_type": "code",
   "execution_count": 36,
   "id": "ca8aaff0",
   "metadata": {
    "scrolled": true
   },
   "outputs": [
    {
     "data": {
      "text/plain": [
       "array([[43.25269874],\n",
       "       [39.90027996],\n",
       "       [32.78790713],\n",
       "       [35.27195557],\n",
       "       [34.11375462],\n",
       "       [26.40836952],\n",
       "       [18.28604842],\n",
       "       [22.77821138],\n",
       "       [51.08124215],\n",
       "       [ 6.23819723],\n",
       "       [10.97813673],\n",
       "       [ 6.01180861],\n",
       "       [44.60701104],\n",
       "       [21.301589  ],\n",
       "       [16.47891747],\n",
       "       [47.74005222],\n",
       "       [10.23164766],\n",
       "       [ 3.51579016],\n",
       "       [29.76473977],\n",
       "       [46.15231044],\n",
       "       [ 3.58527117],\n",
       "       [ 7.78324087],\n",
       "       [13.8868574 ],\n",
       "       [23.75289053],\n",
       "       [31.57321458],\n",
       "       [42.92317878],\n",
       "       [ 9.19751554],\n",
       "       [45.62929615],\n",
       "       [51.88163268],\n",
       "       [30.51999794]])"
      ]
     },
     "execution_count": 36,
     "metadata": {},
     "output_type": "execute_result"
    }
   ],
   "source": [
    "from sklearn.linear_model import LinearRegression\n",
    "\n",
    "model = LinearRegression()\n",
    "\n",
    "model.fit(x,y)\n",
    "model.predict(x)\n"
   ]
  },
  {
   "cell_type": "code",
   "execution_count": 37,
   "id": "451d3fbe",
   "metadata": {},
   "outputs": [
    {
     "data": {
      "text/plain": [
       "{'copy_X': True, 'fit_intercept': True, 'n_jobs': None, 'positive': False}"
      ]
     },
     "execution_count": 37,
     "metadata": {},
     "output_type": "execute_result"
    }
   ],
   "source": [
    "model.get_params()"
   ]
  },
  {
   "cell_type": "code",
   "execution_count": 39,
   "id": "cf677b09",
   "metadata": {},
   "outputs": [
    {
     "data": {
      "text/plain": [
       "(array([[5.]]), array([2.]))"
      ]
     },
     "execution_count": 39,
     "metadata": {},
     "output_type": "execute_result"
    }
   ],
   "source": [
    "model.coef_ , model.intercept_"
   ]
  },
  {
   "cell_type": "code",
   "execution_count": 133,
   "id": "8c679cd1",
   "metadata": {},
   "outputs": [
    {
     "data": {
      "text/plain": [
       "[<matplotlib.lines.Line2D at 0x258b4bdfa90>]"
      ]
     },
     "execution_count": 133,
     "metadata": {},
     "output_type": "execute_result"
    },
    {
     "data": {
      "image/png": "[encoded data removed]",
      "text/plain": [
       "<Figure size 640x480 with 1 Axes>"
      ]
     },
     "metadata": {},
     "output_type": "display_data"
    }
   ],
   "source": [
    "plt.plot(x, y , 'o')\n",
    "plt.plot(x, model.predict(x),'^')\n",
    "\n"
   ]
  },
  {
   "cell_type": "code",
   "execution_count": null,
   "id": "07b1b346",
   "metadata": {},
   "outputs": [],
   "source": []
  }
 ],
 "metadata": {
  "kernelspec": {
   "display_name": "Python 3 (ipykernel)",
   "language": "python",
   "name": "python3"
  },
  "language_info": {
   "codemirror_mode": {
    "name": "ipython",
    "version": 3
   },
   "file_extension": ".py",
   "mimetype": "text/x-python",
   "name": "python",
   "nbconvert_exporter": "python",
   "pygments_lexer": "ipython3",
   "version": "3.11.3"
  }
 },
 "nbformat": 4,
 "nbformat_minor": 5
}
