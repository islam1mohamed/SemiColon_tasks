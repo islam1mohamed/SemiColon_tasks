{
 "cells": [
  {
   "cell_type": "markdown",
   "id": "047d941a",
   "metadata": {},
   "source": [
    "# Linear regression"
   ]
  },
  {
   "cell_type": "code",
   "execution_count": 1,
   "id": "621d061d",
   "metadata": {},
   "outputs": [],
   "source": [
    "import numpy as np\n",
    "import pandas as pd\n",
    "import matplotlib.pyplot as plt \n",
    "import random"
   ]
  },
  {
   "cell_type": "code",
   "execution_count": 2,
   "id": "ac98d055",
   "metadata": {
    "scrolled": true
   },
   "outputs": [],
   "source": [
    "x = np.random.rand(100,1)*10"
   ]
  },
  {
   "cell_type": "code",
   "execution_count": 3,
   "id": "79c3d8ba",
   "metadata": {
    "scrolled": true
   },
   "outputs": [
    {
     "data": {
      "text/plain": [
       "(array([[14.18996393],\n",
       "        [27.81045223],\n",
       "        [21.39412657],\n",
       "        [17.52499345],\n",
       "        [ 4.39553968],\n",
       "        [27.01577586],\n",
       "        [51.477169  ],\n",
       "        [34.83437594],\n",
       "        [34.48489469],\n",
       "        [45.37362347],\n",
       "        [35.95866889],\n",
       "        [31.27895659],\n",
       "        [45.81388278],\n",
       "        [ 5.42735235],\n",
       "        [ 2.1442554 ],\n",
       "        [30.75482036],\n",
       "        [10.93703807],\n",
       "        [41.49677908],\n",
       "        [20.48028537],\n",
       "        [34.52058029],\n",
       "        [15.35965332],\n",
       "        [28.20505766],\n",
       "        [13.24380991],\n",
       "        [ 5.08691492],\n",
       "        [ 7.52574525],\n",
       "        [ 8.36036062],\n",
       "        [36.40751399],\n",
       "        [36.05275132],\n",
       "        [17.51094543],\n",
       "        [44.5218271 ],\n",
       "        [28.80663197],\n",
       "        [35.08366689],\n",
       "        [23.49167228],\n",
       "        [35.3706322 ],\n",
       "        [13.4001657 ],\n",
       "        [ 2.92904851],\n",
       "        [33.71203205],\n",
       "        [17.17061558],\n",
       "        [ 6.90010379],\n",
       "        [41.60442893],\n",
       "        [19.23899409],\n",
       "        [40.75082186],\n",
       "        [36.28399956],\n",
       "        [ 4.08581922],\n",
       "        [28.2934822 ],\n",
       "        [32.35215227],\n",
       "        [21.66331326],\n",
       "        [15.87394244],\n",
       "        [16.85200453],\n",
       "        [16.67741134],\n",
       "        [42.8291748 ],\n",
       "        [43.10928101],\n",
       "        [ 7.22754092],\n",
       "        [18.20489836],\n",
       "        [33.21045937],\n",
       "        [42.99756438],\n",
       "        [29.55059139],\n",
       "        [42.65200863],\n",
       "        [33.67533548],\n",
       "        [ 2.73216996],\n",
       "        [26.95237676],\n",
       "        [50.95875477],\n",
       "        [31.01524625],\n",
       "        [ 2.96599652],\n",
       "        [18.25727268],\n",
       "        [ 9.17521992],\n",
       "        [32.86551129],\n",
       "        [26.60648249],\n",
       "        [31.8197213 ],\n",
       "        [33.23894817],\n",
       "        [18.41851593],\n",
       "        [ 8.56150314],\n",
       "        [46.64676447],\n",
       "        [12.55386709],\n",
       "        [ 5.76051287],\n",
       "        [25.4459048 ],\n",
       "        [41.80667275],\n",
       "        [34.78494682],\n",
       "        [12.63396194],\n",
       "        [48.09773415],\n",
       "        [13.89758136],\n",
       "        [32.26282147],\n",
       "        [11.82927151],\n",
       "        [13.43718361],\n",
       "        [28.97526705],\n",
       "        [10.26199099],\n",
       "        [16.52328516],\n",
       "        [ 5.84202862],\n",
       "        [ 8.63396242],\n",
       "        [14.64687847],\n",
       "        [25.22450705],\n",
       "        [13.07937233],\n",
       "        [44.97045103],\n",
       "        [32.13508265],\n",
       "        [16.47355076],\n",
       "        [18.82249948],\n",
       "        [50.7276799 ],\n",
       "        [44.75136476],\n",
       "        [23.25768602],\n",
       "        [ 4.05943493]]),\n",
       " array([[2.43799279],\n",
       "        [5.16209045],\n",
       "        [3.87882531],\n",
       "        [3.10499869],\n",
       "        [0.47910794],\n",
       "        [5.00315517],\n",
       "        [9.8954338 ],\n",
       "        [6.56687519],\n",
       "        [6.49697894],\n",
       "        [8.67472469],\n",
       "        [6.79173378],\n",
       "        [5.85579132],\n",
       "        [8.76277656],\n",
       "        [0.68547047],\n",
       "        [0.02885108],\n",
       "        [5.75096407],\n",
       "        [1.78740761],\n",
       "        [7.89935582],\n",
       "        [3.69605707],\n",
       "        [6.50411606],\n",
       "        [2.67193066],\n",
       "        [5.24101153],\n",
       "        [2.24876198],\n",
       "        [0.61738298],\n",
       "        [1.10514905],\n",
       "        [1.27207212],\n",
       "        [6.8815028 ],\n",
       "        [6.81055026],\n",
       "        [3.10218909],\n",
       "        [8.50436542],\n",
       "        [5.36132639],\n",
       "        [6.61673338],\n",
       "        [4.29833446],\n",
       "        [6.67412644],\n",
       "        [2.28003314],\n",
       "        [0.1858097 ],\n",
       "        [6.34240641],\n",
       "        [3.03412312],\n",
       "        [0.98002076],\n",
       "        [7.92088579],\n",
       "        [3.44779882],\n",
       "        [7.75016437],\n",
       "        [6.85679991],\n",
       "        [0.41716384],\n",
       "        [5.25869644],\n",
       "        [6.07043045],\n",
       "        [3.93266265],\n",
       "        [2.77478849],\n",
       "        [2.97040091],\n",
       "        [2.93548227],\n",
       "        [8.16583496],\n",
       "        [8.2218562 ],\n",
       "        [1.04550818],\n",
       "        [3.24097967],\n",
       "        [6.24209187],\n",
       "        [8.19951288],\n",
       "        [5.51011828],\n",
       "        [8.13040173],\n",
       "        [6.3350671 ],\n",
       "        [0.14643399],\n",
       "        [4.99047535],\n",
       "        [9.79175095],\n",
       "        [5.80304925],\n",
       "        [0.1931993 ],\n",
       "        [3.25145454],\n",
       "        [1.43504398],\n",
       "        [6.17310226],\n",
       "        [4.9212965 ],\n",
       "        [5.96394426],\n",
       "        [6.24778963],\n",
       "        [3.28370319],\n",
       "        [1.31230063],\n",
       "        [8.92935289],\n",
       "        [2.11077342],\n",
       "        [0.75210257],\n",
       "        [4.68918096],\n",
       "        [7.96133455],\n",
       "        [6.55698936],\n",
       "        [2.12679239],\n",
       "        [9.21954683],\n",
       "        [2.37951627],\n",
       "        [6.05256429],\n",
       "        [1.9658543 ],\n",
       "        [2.28743672],\n",
       "        [5.39505341],\n",
       "        [1.6523982 ],\n",
       "        [2.90465703],\n",
       "        [0.76840572],\n",
       "        [1.32679248],\n",
       "        [2.52937569],\n",
       "        [4.64490141],\n",
       "        [2.21587447],\n",
       "        [8.59409021],\n",
       "        [6.02701653],\n",
       "        [2.89471015],\n",
       "        [3.3644999 ],\n",
       "        [9.74553598],\n",
       "        [8.55027295],\n",
       "        [4.2515372 ],\n",
       "        [0.41188699]]))"
      ]
     },
     "execution_count": 3,
     "metadata": {},
     "output_type": "execute_result"
    }
   ],
   "source": [
    "y= 5*x+2\n",
    "y , x"
   ]
  },
  {
   "cell_type": "markdown",
   "id": "11593a68",
   "metadata": {},
   "source": [
    "# From scratch"
   ]
  },
  {
   "cell_type": "code",
   "execution_count": 4,
   "id": "c7a1e2fd",
   "metadata": {
    "scrolled": true
   },
   "outputs": [],
   "source": [
    "# x ,y"
   ]
  },
  {
   "cell_type": "code",
   "execution_count": 5,
   "id": "b972b865",
   "metadata": {
    "scrolled": true
   },
   "outputs": [],
   "source": [
    "\n",
    "w = 0.5\n",
    "b = 0\n",
    "\n",
    "alpha = 0.05\n",
    "\n",
    "iter = 1000\n",
    "cost_list =[]\n",
    "w_list = []\n",
    "b_list = []\n",
    "for i in range(iter):\n",
    "    y_train = w*x +b \n",
    "    jw = ((y_train - y) * x).sum() / len(y)\n",
    "    jb = (y_train - y).sum() / len(y)\n",
    "    cost = np.sum((y_train - y)**2) /(len(y))\n",
    "    cost_list.append(cost)\n",
    "    sum = np.sum((w*x) - y)\n",
    "    w = w - alpha * jw\n",
    "    w_list.append(w)\n",
    "    b = b - alpha * jb \n",
    "    b_list.append(b)\n",
    "    if i >0:\n",
    "        if abs(cost_list[i] - cost_list[i-1]) < 1e-6 :\n",
    "            break\n",
    "# jw , jb ,cost_list , w_list , y_train\n"
   ]
  },
  {
   "cell_type": "code",
   "execution_count": 6,
   "id": "1556e57b",
   "metadata": {
    "scrolled": false
   },
   "outputs": [
    {
     "name": "stdout",
     "output_type": "stream",
     "text": [
      "5.001908298157626 1.9883084349925741\n"
     ]
    },
    {
     "data": {
      "text/plain": [
       "Text(0.5, 0, 'w')"
      ]
     },
     "execution_count": 6,
     "metadata": {},
     "output_type": "execute_result"
    },
    {
     "data": {
      "image/png": "[encoded data removed]",
      "text/plain": [
       "<Figure size 640x480 with 1 Axes>"
      ]
     },
     "metadata": {},
     "output_type": "display_data"
    }
   ],
   "source": [
    "print(w,b)\n",
    "plt.plot(w_list,cost_list)\n",
    "plt.ylabel('cost')\n",
    "plt.xlabel('w')"
   ]
  },
  {
   "cell_type": "code",
   "execution_count": 7,
   "id": "2b1b36c6",
   "metadata": {},
   "outputs": [
    {
     "data": {
      "text/plain": [
       "[<matplotlib.lines.Line2D at 0x131a7372190>]"
      ]
     },
     "execution_count": 7,
     "metadata": {},
     "output_type": "execute_result"
    },
    {
     "data": {
      "image/png": "[encoded data removed]",
      "text/plain": [
       "<Figure size 640x480 with 1 Axes>"
      ]
     },
     "metadata": {},
     "output_type": "display_data"
    }
   ],
   "source": [
    "plt.plot(w_list)"
   ]
  },
  {
   "cell_type": "code",
   "execution_count": 8,
   "id": "4770b052",
   "metadata": {},
   "outputs": [
    {
     "data": {
      "text/plain": [
       "[<matplotlib.lines.Line2D at 0x131a950d890>]"
      ]
     },
     "execution_count": 8,
     "metadata": {},
     "output_type": "execute_result"
    },
    {
     "data": {
      "image/png": "[encoded data removed]",
      "text/plain": [
       "<Figure size 640x480 with 1 Axes>"
      ]
     },
     "metadata": {},
     "output_type": "display_data"
    }
   ],
   "source": [
    "plt.plot(b_list)"
   ]
  },
  {
   "cell_type": "code",
   "execution_count": 9,
   "id": "7453095e",
   "metadata": {},
   "outputs": [
    {
     "data": {
      "text/plain": [
       "[<matplotlib.lines.Line2D at 0x131a95cde10>]"
      ]
     },
     "execution_count": 9,
     "metadata": {},
     "output_type": "execute_result"
    },
    {
     "data": {
      "image/png": "[encoded data removed]",
      "text/plain": [
       "<Figure size 640x480 with 1 Axes>"
      ]
     },
     "metadata": {},
     "output_type": "display_data"
    }
   ],
   "source": [
    "plt.plot(x, y , 'o')\n",
    "plt.plot(x, y_train, '--')"
   ]
  },
  {
   "cell_type": "markdown",
   "id": "3090cbd1",
   "metadata": {},
   "source": [
    "# Automatic method"
   ]
  },
  {
   "cell_type": "code",
   "execution_count": 10,
   "id": "ca8aaff0",
   "metadata": {
    "scrolled": true
   },
   "outputs": [
    {
     "data": {
      "text/plain": [
       "array([[14.18996393],\n",
       "       [27.81045223],\n",
       "       [21.39412657],\n",
       "       [17.52499345],\n",
       "       [ 4.39553968],\n",
       "       [27.01577586],\n",
       "       [51.477169  ],\n",
       "       [34.83437594],\n",
       "       [34.48489469],\n",
       "       [45.37362347],\n",
       "       [35.95866889],\n",
       "       [31.27895659],\n",
       "       [45.81388278],\n",
       "       [ 5.42735235],\n",
       "       [ 2.1442554 ],\n",
       "       [30.75482036],\n",
       "       [10.93703807],\n",
       "       [41.49677908],\n",
       "       [20.48028537],\n",
       "       [34.52058029],\n",
       "       [15.35965332],\n",
       "       [28.20505766],\n",
       "       [13.24380991],\n",
       "       [ 5.08691492],\n",
       "       [ 7.52574525],\n",
       "       [ 8.36036062],\n",
       "       [36.40751399],\n",
       "       [36.05275132],\n",
       "       [17.51094543],\n",
       "       [44.5218271 ],\n",
       "       [28.80663197],\n",
       "       [35.08366689],\n",
       "       [23.49167228],\n",
       "       [35.3706322 ],\n",
       "       [13.4001657 ],\n",
       "       [ 2.92904851],\n",
       "       [33.71203205],\n",
       "       [17.17061558],\n",
       "       [ 6.90010379],\n",
       "       [41.60442893],\n",
       "       [19.23899409],\n",
       "       [40.75082186],\n",
       "       [36.28399956],\n",
       "       [ 4.08581922],\n",
       "       [28.2934822 ],\n",
       "       [32.35215227],\n",
       "       [21.66331326],\n",
       "       [15.87394244],\n",
       "       [16.85200453],\n",
       "       [16.67741134],\n",
       "       [42.8291748 ],\n",
       "       [43.10928101],\n",
       "       [ 7.22754092],\n",
       "       [18.20489836],\n",
       "       [33.21045937],\n",
       "       [42.99756438],\n",
       "       [29.55059139],\n",
       "       [42.65200863],\n",
       "       [33.67533548],\n",
       "       [ 2.73216996],\n",
       "       [26.95237676],\n",
       "       [50.95875477],\n",
       "       [31.01524625],\n",
       "       [ 2.96599652],\n",
       "       [18.25727268],\n",
       "       [ 9.17521992],\n",
       "       [32.86551129],\n",
       "       [26.60648249],\n",
       "       [31.8197213 ],\n",
       "       [33.23894817],\n",
       "       [18.41851593],\n",
       "       [ 8.56150314],\n",
       "       [46.64676447],\n",
       "       [12.55386709],\n",
       "       [ 5.76051287],\n",
       "       [25.4459048 ],\n",
       "       [41.80667275],\n",
       "       [34.78494682],\n",
       "       [12.63396194],\n",
       "       [48.09773415],\n",
       "       [13.89758136],\n",
       "       [32.26282147],\n",
       "       [11.82927151],\n",
       "       [13.43718361],\n",
       "       [28.97526705],\n",
       "       [10.26199099],\n",
       "       [16.52328516],\n",
       "       [ 5.84202862],\n",
       "       [ 8.63396242],\n",
       "       [14.64687847],\n",
       "       [25.22450705],\n",
       "       [13.07937233],\n",
       "       [44.97045103],\n",
       "       [32.13508265],\n",
       "       [16.47355076],\n",
       "       [18.82249948],\n",
       "       [50.7276799 ],\n",
       "       [44.75136476],\n",
       "       [23.25768602],\n",
       "       [ 4.05943493]])"
      ]
     },
     "execution_count": 10,
     "metadata": {},
     "output_type": "execute_result"
    }
   ],
   "source": [
    "from sklearn.linear_model import LinearRegression\n",
    "\n",
    "model = LinearRegression()\n",
    "\n",
    "model.fit(x,y)\n",
    "model.predict(x)\n"
   ]
  },
  {
   "cell_type": "code",
   "execution_count": 11,
   "id": "451d3fbe",
   "metadata": {},
   "outputs": [
    {
     "data": {
      "text/plain": [
       "{'copy_X': True, 'fit_intercept': True, 'n_jobs': None, 'positive': False}"
      ]
     },
     "execution_count": 11,
     "metadata": {},
     "output_type": "execute_result"
    }
   ],
   "source": [
    "model.get_params()"
   ]
  },
  {
   "cell_type": "code",
   "execution_count": 12,
   "id": "cf677b09",
   "metadata": {},
   "outputs": [
    {
     "data": {
      "text/plain": [
       "(array([[5.]]), array([2.]))"
      ]
     },
     "execution_count": 12,
     "metadata": {},
     "output_type": "execute_result"
    }
   ],
   "source": [
    "model.coef_ , model.intercept_"
   ]
  },
  {
   "cell_type": "code",
   "execution_count": 13,
   "id": "8c679cd1",
   "metadata": {},
   "outputs": [
    {
     "data": {
      "text/plain": [
       "[<matplotlib.lines.Line2D at 0x131c19f5110>]"
      ]
     },
     "execution_count": 13,
     "metadata": {},
     "output_type": "execute_result"
    },
    {
     "data": {
      "image/png": "[encoded data removed]",
      "text/plain": [
       "<Figure size 640x480 with 1 Axes>"
      ]
     },
     "metadata": {},
     "output_type": "display_data"
    }
   ],
   "source": [
    "plt.plot(x, y , 'o')\n",
    "plt.plot(x, model.predict(x),'^')\n",
    "\n"
   ]
  },
  {
   "cell_type": "code",
   "execution_count": null,
   "id": "07b1b346",
   "metadata": {},
   "outputs": [],
   "source": []
  },
  {
   "cell_type": "code",
   "execution_count": null,
   "id": "e85ddfa0",
   "metadata": {},
   "outputs": [],
   "source": []
  }
 ],
 "metadata": {
  "kernelspec": {
   "display_name": "Python 3 (ipykernel)",
   "language": "python",
   "name": "python3"
  },
  "language_info": {
   "codemirror_mode": {
    "name": "ipython",
    "version": 3
   },
   "file_extension": ".py",
   "mimetype": "text/x-python",
   "name": "python",
   "nbconvert_exporter": "python",
   "pygments_lexer": "ipython3",
   "version": "3.11.3"
  }
 },
 "nbformat": 4,
 "nbformat_minor": 5
}
